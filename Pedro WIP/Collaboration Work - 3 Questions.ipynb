{
 "cells": [
  {
   "cell_type": "markdown",
   "metadata": {
    "isInteractiveWindowMessageCell": true
   },
   "source": [
    "Connected to Pandas (Python 3.11.5)"
   ]
  },
  {
   "cell_type": "code",
   "execution_count": 15,
   "metadata": {},
   "outputs": [],
   "source": [
    "import sqlite3\n",
    "import pandas as pd\n",
    "import matplotlib.pyplot as plt\n",
    "\n",
    "excel_salary = '/Users/pedrochavez/Desktop/Krypton/salary_data_states.xlsx'"
   ]
  },
  {
   "cell_type": "code",
   "execution_count": 2,
   "metadata": {},
   "outputs": [],
   "source": [
    "df = pd.read_excel(excel_salary)"
   ]
  },
  {
   "cell_type": "code",
   "execution_count": 3,
   "metadata": {},
   "outputs": [
    {
     "name": "stdout",
     "output_type": "stream",
     "text": [
      "               CASE_NUMBER          CASE_STATUS CASE_RECEIVED_DATE  \\\n",
      "0       I-200-14073-248840               denied          3/14/2014   \n",
      "1            A-15061-55212               denied          3/19/2015   \n",
      "2       I-200-13256-001092               denied          9/13/2013   \n",
      "3       I-200-14087-353657               denied          3/28/2014   \n",
      "4       I-203-14259-128844               denied          9/16/2014   \n",
      "...                    ...                  ...                ...   \n",
      "167273  I-200-12241-209885  certified-withdrawn          8/28/2012   \n",
      "167274  I-200-11305-143547               denied          11/1/2011   \n",
      "167275  I-200-11313-833007            certified          11/9/2011   \n",
      "167276  I-200-11312-798611               denied          11/8/2011   \n",
      "167277  I-200-11297-523711               denied         10/24/2011   \n",
      "\n",
      "       DECISION_DATE                                      EMPLOYER_NAME  \\\n",
      "0          3/21/2014                ADVANCED TECHNOLOGY GROUP USA, INC.   \n",
      "1          3/19/2015                     SAN FRANCISCO STATE UNIVERSITY   \n",
      "2          9/23/2013                                    CAROUSEL SCHOOL   \n",
      "3           4/7/2014  HARLINGEN CONSOLIDATED INDEPENDENT SCHOOL DIST...   \n",
      "4          9/23/2014                        SIGNAL SCIENCES CORPORATION   \n",
      "...              ...                                                ...   \n",
      "167273      6/6/2013           CHINESE BIBLE CHURCH INTERNATIONAL, INC.   \n",
      "167274     11/3/2011           CHINESE BIBLE CHURCH INTERNATIONAL, INC.   \n",
      "167275    11/16/2011           CHINESE BIBLE CHURCH INTERNATIONAL, INC.   \n",
      "167276    11/15/2011           CHINESE BIBLE CHURCH INTERNATIONAL, INC.   \n",
      "167277    10/26/2011           CHINESE BIBLE CHURCH INTERNATIONAL, INC.   \n",
      "\n",
      "        PREVAILING_WAGE_SUBMITTED PREVAILING_WAGE_SUBMITTED_UNIT  \\\n",
      "0                      6217100.00                           year   \n",
      "1                      5067600.00                           year   \n",
      "2                      4947000.00                           year   \n",
      "3                       251052.00                          month   \n",
      "4                        84573.00                      bi-weekly   \n",
      "...                           ...                            ...   \n",
      "167273                       5.05                           hour   \n",
      "167274                       5.05                           hour   \n",
      "167275                       5.05                           hour   \n",
      "167276                       5.05                           hour   \n",
      "167277                       5.05                           hour   \n",
      "\n",
      "        PAID_WAGE_SUBMITTED PAID_WAGE_SUBMITTED_UNIT  \\\n",
      "0                  62171.00                     year   \n",
      "1                  91440.00                     year   \n",
      "2                  49470.00                     year   \n",
      "3                  43800.00                     year   \n",
      "4                 170000.00                     year   \n",
      "...                     ...                      ...   \n",
      "167273                 5.60                     hour   \n",
      "167274                 5.25                     hour   \n",
      "167275                 5.25                     hour   \n",
      "167276                 5.10                     hour   \n",
      "167277                 5.05                     hour   \n",
      "\n",
      "                               JOB_TITLE  ...  \\\n",
      "0                      SOFTWARE ENGINEER  ...   \n",
      "1       Assistant Professor of Marketing  ...   \n",
      "2              SPECIAL EDUCATION TEACHER  ...   \n",
      "3                        SCIENCE TEACHER  ...   \n",
      "4               SENIOR SOFTWARE ENGINEER  ...   \n",
      "...                                  ...  ...   \n",
      "167273            MIDDLE SCHOOL TEACHERS  ...   \n",
      "167274                 PRESCHOOL TEACHER  ...   \n",
      "167275                           TEACHER  ...   \n",
      "167276                 PRESCHOOL TEACHER  ...   \n",
      "167277                 PRESCHOOL TEACHER  ...   \n",
      "\n",
      "                                PREVAILING_WAGE_SOC_TITLE  \\\n",
      "0                       Software Developers, Applications   \n",
      "1                        Business Teachers, Postsecondary   \n",
      "2       Special Education Teachers, Kindergarten and E...   \n",
      "3              Biological Science Teachers, Postsecondary   \n",
      "4                   Software Developers, Systems Software   \n",
      "...                                                   ...   \n",
      "167273  Middle School Teachers, Except Special and Car...   \n",
      "167274       Preschool Teachers, Except Special Education   \n",
      "167275               Teachers and Instructors, All Other*   \n",
      "167276       Preschool Teachers, Except Special Education   \n",
      "167277       Preschool Teachers, Except Special Education   \n",
      "\n",
      "                      WORK_STATE WORK_STATE_ABBREVIATION WORK_POSTAL_CODE  \\\n",
      "0                       Illinois                      IL              NaN   \n",
      "1                     California                      CA          94132.0   \n",
      "2                     California                      CA              NaN   \n",
      "3                          Texas                      TX              NaN   \n",
      "4                         Oregon                      OR              NaN   \n",
      "...                          ...                     ...              ...   \n",
      "167273  Northern Mariana Islands                      MP              NaN   \n",
      "167274  Northern Mariana Islands                      MP              NaN   \n",
      "167275  Northern Mariana Islands                      MP              NaN   \n",
      "167276  Northern Mariana Islands                      MP              NaN   \n",
      "167277  Northern Mariana Islands                      MP              NaN   \n",
      "\n",
      "        FULL_TIME_POSITION_Y_N      VISA_CLASS PREVAILING_WAGE_PER_YEAR  \\\n",
      "0                            y            H-1B                      NaN   \n",
      "1                          NaN       greencard                      NaN   \n",
      "2                            y            H-1B                      NaN   \n",
      "3                            y            H-1B                      NaN   \n",
      "4                            y  E-3 Australian                      NaN   \n",
      "...                        ...             ...                      ...   \n",
      "167273                       y            H-1B                  10504.0   \n",
      "167274                       y            H-1B                  10504.0   \n",
      "167275                       y            H-1B                  10504.0   \n",
      "167276                       y            H-1B                  10504.0   \n",
      "167277                       y            H-1B                  10504.0   \n",
      "\n",
      "       PAID_WAGE_PER_YEAR   JOB_TITLE_SUBGROUP   order  \n",
      "0                 62171.0    software engineer       1  \n",
      "1                 91440.0  assistant professor       2  \n",
      "2                 49470.0              teacher       3  \n",
      "3                 43800.0              teacher       4  \n",
      "4                170000.0    software engineer       5  \n",
      "...                   ...                  ...     ...  \n",
      "167273            11648.0              teacher  167357  \n",
      "167274            10920.0              teacher  167358  \n",
      "167275            10920.0              teacher  167359  \n",
      "167276            10608.0              teacher  167360  \n",
      "167277            10504.0              teacher  167361  \n",
      "\n",
      "[167278 rows x 27 columns]\n"
     ]
    }
   ],
   "source": [
    "print(df)"
   ]
  },
  {
   "cell_type": "code",
   "execution_count": 5,
   "metadata": {},
   "outputs": [
    {
     "name": "stdout",
     "output_type": "stream",
     "text": [
      "Index(['CASE_NUMBER', 'CASE_STATUS', 'CASE_RECEIVED_DATE', 'DECISION_DATE',\n",
      "       'EMPLOYER_NAME', 'PREVAILING_WAGE_SUBMITTED',\n",
      "       'PREVAILING_WAGE_SUBMITTED_UNIT', 'PAID_WAGE_SUBMITTED',\n",
      "       'PAID_WAGE_SUBMITTED_UNIT', 'JOB_TITLE', 'WORK_CITY',\n",
      "       'EDUCATION_LEVEL_REQUIRED', 'COLLEGE_MAJOR_REQUIRED',\n",
      "       'EXPERIENCE_REQUIRED_Y_N', 'EXPERIENCE_REQUIRED_NUM_MONTHS',\n",
      "       'COUNTRY_OF_CITIZENSHIP', 'PREVAILING_WAGE_SOC_CODE',\n",
      "       'PREVAILING_WAGE_SOC_TITLE', 'WORK_STATE', 'WORK_STATE_ABBREVIATION',\n",
      "       'WORK_POSTAL_CODE', 'FULL_TIME_POSITION_Y_N', 'VISA_CLASS',\n",
      "       'PREVAILING_WAGE_PER_YEAR', 'PAID_WAGE_PER_YEAR', 'JOB_TITLE_SUBGROUP',\n",
      "       'order'],\n",
      "      dtype='object')\n"
     ]
    }
   ],
   "source": [
    "print(df.columns)"
   ]
<<<<<<< HEAD
  },
  {
   "cell_type": "code",
   "execution_count": 7,
=======
<<<<<<< HEAD
  },
  {
   "cell_type": "code",
   "execution_count": 11,
>>>>>>> main
   "metadata": {},
   "outputs": [
    {
     "name": "stdout",
     "output_type": "stream",
     "text": [
      "167277                teacher\n",
      "150309                teacher\n",
      "150320                teacher\n",
      "150319                teacher\n",
      "150318                teacher\n",
      "                 ...         \n",
      "118144    assistant professor\n",
      "151923    assistant professor\n",
      "151922    assistant professor\n",
      "151921    assistant professor\n",
      "154985    assistant professor\n",
      "Name: JOB_TITLE_SUBGROUP, Length: 167278, dtype: object\n"
     ]
    }
   ],
   "source": [
<<<<<<< HEAD
    "print(df['JOB_TITLE_SUBGROUP'].sort_values(ascending=False))\n"
=======
    "print(df['JOB_TITLE_SUBGROUP'].sort_values(ascending=False))"
>>>>>>> main
   ]
  },
  {
   "cell_type": "code",
<<<<<<< HEAD
   "execution_count": 9,
=======
   "execution_count": 23,
>>>>>>> main
   "metadata": {},
   "outputs": [
    {
     "name": "stdout",
     "output_type": "stream",
     "text": [
      "JOB_TITLE_SUBGROUP\n",
      "attorney                 146413.596714\n",
      "management consultant    108251.334662\n",
      "data scientist           108021.038248\n",
      "assistant professor       94876.713707\n",
      "software engineer         92505.303013\n",
      "business analyst          71300.079566\n",
      "data analyst              70030.078688\n",
      "teacher                   46039.985507\n",
      "Name: PAID_WAGE_PER_YEAR, dtype: float64\n"
     ]
    }
   ],
   "source": [
    "mean_paid_wage_by_title = (df.groupby('JOB_TITLE_SUBGROUP')['PAID_WAGE_PER_YEAR'].mean().sort_values(ascending=False))\n",
<<<<<<< HEAD
=======
    "\n",
>>>>>>> main
    "print(mean_paid_wage_by_title)"
   ]
  },
  {
   "cell_type": "code",
<<<<<<< HEAD
   "execution_count": 10,
=======
   "execution_count": 25,
>>>>>>> main
   "metadata": {},
   "outputs": [
    {
     "name": "stdout",
     "output_type": "stream",
     "text": [
      "JOB_TITLE_SUBGROUP   COUNTRY_OF_CITIZENSHIP\n",
      "attorney             SINGAPORE                 280000.0\n",
      "assistant professor  COSTA RICA                279575.0\n",
      "attorney             TURKEY                    275000.0\n",
      "                     BRAZIL                    232000.0\n",
      "                     BELGIUM                   230000.0\n",
      "                                                 ...   \n",
      "teacher              TURKEY                     36812.5\n",
      "                     ISRAEL                     36190.0\n",
      "                     ALBANIA                    35982.0\n",
      "                     RUSSIA                     32245.0\n",
      "                     VIETNAM                    22880.0\n",
      "Name: PAID_WAGE_PER_YEAR, Length: 384, dtype: float64\n"
     ]
    }
   ],
   "source": [
    "mean_paid_wage_by_title_country = df.groupby(['JOB_TITLE_SUBGROUP', 'COUNTRY_OF_CITIZENSHIP'])['PAID_WAGE_PER_YEAR'].mean().sort_values(ascending=False)\n",
<<<<<<< HEAD
    "print(mean_paid_wage_by_title_country)"
   ]
  },
  {
   "cell_type": "code",
   "execution_count": 13,
   "metadata": {},
   "outputs": [
    {
     "name": "stdout",
     "output_type": "stream",
     "text": [
      "134207    Wyoming\n",
      "134952    Wyoming\n",
      "131365    Wyoming\n",
      "126564    Wyoming\n",
      "160268    Wyoming\n",
      "           ...   \n",
      "143413    Alabama\n",
      "143412    Alabama\n",
      "143411    Alabama\n",
      "94729     Alabama\n",
      "131976    Alabama\n",
      "Name: WORK_STATE, Length: 167278, dtype: object\n"
     ]
    }
   ],
   "source": [
    "print(df['WORK_STATE'].sort_values(ascending=False))"
   ]
  },
  {
   "cell_type": "code",
   "execution_count": 14,
   "metadata": {},
   "outputs": [
    {
     "name": "stdout",
     "output_type": "stream",
     "text": [
      "JOB_TITLE_SUBGROUP   COUNTRY_OF_CITIZENSHIP  WORK_STATE\n",
      "assistant professor  TURKEY                  Arkansas      450000.0\n",
      "                     AUSTRALIA               Arkansas      450000.0\n",
      "                     LEBANON                 Illinois      380000.0\n",
      "                     CANADA                  Arkansas      375000.0\n",
      "                     BRAZIL                  Georgia       315000.0\n",
      "                                                             ...   \n",
      "teacher              CANADA                  Idaho          31750.0\n",
      "business analyst     INDIA                   Oklahoma       31741.0\n",
      "teacher              INDIA                   Delaware       25626.0\n",
      "                     VIETNAM                 Oklahoma       22880.0\n",
      "                     RUSSIA                  Maryland       18960.0\n",
      "Name: PAID_WAGE_PER_YEAR, Length: 1633, dtype: float64\n"
     ]
    }
   ],
   "source": [
    "mean_paid_wage_by_title_country_and_city = df.groupby(['JOB_TITLE_SUBGROUP', 'COUNTRY_OF_CITIZENSHIP', 'WORK_STATE'])['PAID_WAGE_PER_YEAR'].mean().sort_values(ascending=False)\n",
    "print(mean_paid_wage_by_title_country_and_city)"
   ]
  },
  {
   "cell_type": "code",
   "execution_count": null,
   "metadata": {},
   "outputs": [],
   "source": []
  },
  {
   "cell_type": "code",
   "execution_count": null,
   "metadata": {},
   "outputs": [],
   "source": [
    "\n"
   ]
  },
  {
   "cell_type": "code",
   "execution_count": null,
   "metadata": {},
   "outputs": [],
   "source": [
    "\n"
   ]
  },
  {
   "cell_type": "code",
   "execution_count": null,
   "metadata": {},
   "outputs": [],
   "source": []
=======
    "\n",
    "print(mean_paid_wage_by_title_country)\n"
   ]
=======
>>>>>>> main
>>>>>>> main
  }
 ],
 "metadata": {
  "kernelspec": {
   "display_name": "Pandas",
   "language": "python",
   "name": "python3"
  },
  "language_info": {
   "codemirror_mode": {
    "name": "ipython",
    "version": 3
   },
   "file_extension": ".py",
   "mimetype": "text/x-python",
   "name": "python",
   "nbconvert_exporter": "python",
   "pygments_lexer": "ipython3",
   "version": "3.11.5"
  }
 },
 "nbformat": 4,
 "nbformat_minor": 2
}
