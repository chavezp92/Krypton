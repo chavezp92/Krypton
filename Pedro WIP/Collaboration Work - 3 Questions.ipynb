{
 "cells": [
  {
   "cell_type": "markdown",
   "metadata": {
    "isInteractiveWindowMessageCell": true
   },
   "source": [
    "Connected to Pandas (Python 3.11.5)"
   ]
  },
  {
   "cell_type": "code",
   "execution_count": 1,
   "metadata": {},
   "outputs": [],
   "source": [
    "import sqlite3\n",
    "import pandas as pd\n",
    "\n",
    "excel_salary = '/Users/pedrochavez/Desktop/Krypton/salary_data_states.xlsx'"
   ]
  },
  {
   "cell_type": "code",
   "execution_count": 2,
   "metadata": {},
   "outputs": [],
   "source": [
    "df = pd.read_excel(excel_salary)"
   ]
  },
  {
   "cell_type": "code",
   "execution_count": 3,
   "metadata": {},
   "outputs": [
    {
     "name": "stdout",
     "output_type": "stream",
     "text": [
      "               CASE_NUMBER          CASE_STATUS CASE_RECEIVED_DATE  \\\n",
      "0       I-200-14073-248840               denied          3/14/2014   \n",
      "1            A-15061-55212               denied          3/19/2015   \n",
      "2       I-200-13256-001092               denied          9/13/2013   \n",
      "3       I-200-14087-353657               denied          3/28/2014   \n",
      "4       I-203-14259-128844               denied          9/16/2014   \n",
      "...                    ...                  ...                ...   \n",
      "167273  I-200-12241-209885  certified-withdrawn          8/28/2012   \n",
      "167274  I-200-11305-143547               denied          11/1/2011   \n",
      "167275  I-200-11313-833007            certified          11/9/2011   \n",
      "167276  I-200-11312-798611               denied          11/8/2011   \n",
      "167277  I-200-11297-523711               denied         10/24/2011   \n",
      "\n",
      "       DECISION_DATE                                      EMPLOYER_NAME  \\\n",
      "0          3/21/2014                ADVANCED TECHNOLOGY GROUP USA, INC.   \n",
      "1          3/19/2015                     SAN FRANCISCO STATE UNIVERSITY   \n",
      "2          9/23/2013                                    CAROUSEL SCHOOL   \n",
      "3           4/7/2014  HARLINGEN CONSOLIDATED INDEPENDENT SCHOOL DIST...   \n",
      "4          9/23/2014                        SIGNAL SCIENCES CORPORATION   \n",
      "...              ...                                                ...   \n",
      "167273      6/6/2013           CHINESE BIBLE CHURCH INTERNATIONAL, INC.   \n",
      "167274     11/3/2011           CHINESE BIBLE CHURCH INTERNATIONAL, INC.   \n",
      "167275    11/16/2011           CHINESE BIBLE CHURCH INTERNATIONAL, INC.   \n",
      "167276    11/15/2011           CHINESE BIBLE CHURCH INTERNATIONAL, INC.   \n",
      "167277    10/26/2011           CHINESE BIBLE CHURCH INTERNATIONAL, INC.   \n",
      "\n",
      "        PREVAILING_WAGE_SUBMITTED PREVAILING_WAGE_SUBMITTED_UNIT  \\\n",
      "0                      6217100.00                           year   \n",
      "1                      5067600.00                           year   \n",
      "2                      4947000.00                           year   \n",
      "3                       251052.00                          month   \n",
      "4                        84573.00                      bi-weekly   \n",
      "...                           ...                            ...   \n",
      "167273                       5.05                           hour   \n",
      "167274                       5.05                           hour   \n",
      "167275                       5.05                           hour   \n",
      "167276                       5.05                           hour   \n",
      "167277                       5.05                           hour   \n",
      "\n",
      "        PAID_WAGE_SUBMITTED PAID_WAGE_SUBMITTED_UNIT  \\\n",
      "0                  62171.00                     year   \n",
      "1                  91440.00                     year   \n",
      "2                  49470.00                     year   \n",
      "3                  43800.00                     year   \n",
      "4                 170000.00                     year   \n",
      "...                     ...                      ...   \n",
      "167273                 5.60                     hour   \n",
      "167274                 5.25                     hour   \n",
      "167275                 5.25                     hour   \n",
      "167276                 5.10                     hour   \n",
      "167277                 5.05                     hour   \n",
      "\n",
      "                               JOB_TITLE  ...  \\\n",
      "0                      SOFTWARE ENGINEER  ...   \n",
      "1       Assistant Professor of Marketing  ...   \n",
      "2              SPECIAL EDUCATION TEACHER  ...   \n",
      "3                        SCIENCE TEACHER  ...   \n",
      "4               SENIOR SOFTWARE ENGINEER  ...   \n",
      "...                                  ...  ...   \n",
      "167273            MIDDLE SCHOOL TEACHERS  ...   \n",
      "167274                 PRESCHOOL TEACHER  ...   \n",
      "167275                           TEACHER  ...   \n",
      "167276                 PRESCHOOL TEACHER  ...   \n",
      "167277                 PRESCHOOL TEACHER  ...   \n",
      "\n",
      "                                PREVAILING_WAGE_SOC_TITLE  \\\n",
      "0                       Software Developers, Applications   \n",
      "1                        Business Teachers, Postsecondary   \n",
      "2       Special Education Teachers, Kindergarten and E...   \n",
      "3              Biological Science Teachers, Postsecondary   \n",
      "4                   Software Developers, Systems Software   \n",
      "...                                                   ...   \n",
      "167273  Middle School Teachers, Except Special and Car...   \n",
      "167274       Preschool Teachers, Except Special Education   \n",
      "167275               Teachers and Instructors, All Other*   \n",
      "167276       Preschool Teachers, Except Special Education   \n",
      "167277       Preschool Teachers, Except Special Education   \n",
      "\n",
      "                      WORK_STATE WORK_STATE_ABBREVIATION WORK_POSTAL_CODE  \\\n",
      "0                       Illinois                      IL              NaN   \n",
      "1                     California                      CA          94132.0   \n",
      "2                     California                      CA              NaN   \n",
      "3                          Texas                      TX              NaN   \n",
      "4                         Oregon                      OR              NaN   \n",
      "...                          ...                     ...              ...   \n",
      "167273  Northern Mariana Islands                      MP              NaN   \n",
      "167274  Northern Mariana Islands                      MP              NaN   \n",
      "167275  Northern Mariana Islands                      MP              NaN   \n",
      "167276  Northern Mariana Islands                      MP              NaN   \n",
      "167277  Northern Mariana Islands                      MP              NaN   \n",
      "\n",
      "        FULL_TIME_POSITION_Y_N      VISA_CLASS PREVAILING_WAGE_PER_YEAR  \\\n",
      "0                            y            H-1B                      NaN   \n",
      "1                          NaN       greencard                      NaN   \n",
      "2                            y            H-1B                      NaN   \n",
      "3                            y            H-1B                      NaN   \n",
      "4                            y  E-3 Australian                      NaN   \n",
      "...                        ...             ...                      ...   \n",
      "167273                       y            H-1B                  10504.0   \n",
      "167274                       y            H-1B                  10504.0   \n",
      "167275                       y            H-1B                  10504.0   \n",
      "167276                       y            H-1B                  10504.0   \n",
      "167277                       y            H-1B                  10504.0   \n",
      "\n",
      "       PAID_WAGE_PER_YEAR   JOB_TITLE_SUBGROUP   order  \n",
      "0                 62171.0    software engineer       1  \n",
      "1                 91440.0  assistant professor       2  \n",
      "2                 49470.0              teacher       3  \n",
      "3                 43800.0              teacher       4  \n",
      "4                170000.0    software engineer       5  \n",
      "...                   ...                  ...     ...  \n",
      "167273            11648.0              teacher  167357  \n",
      "167274            10920.0              teacher  167358  \n",
      "167275            10920.0              teacher  167359  \n",
      "167276            10608.0              teacher  167360  \n",
      "167277            10504.0              teacher  167361  \n",
      "\n",
      "[167278 rows x 27 columns]\n"
     ]
    }
   ],
   "source": [
    "print(df)"
   ]
  },
  {
   "cell_type": "code",
   "execution_count": 4,
   "metadata": {},
   "outputs": [
    {
     "name": "stdout",
     "output_type": "stream",
     "text": [
      "Index(['CASE_NUMBER', 'CASE_STATUS', 'CASE_RECEIVED_DATE', 'DECISION_DATE',\n",
      "       'EMPLOYER_NAME', 'PREVAILING_WAGE_SUBMITTED',\n",
      "       'PREVAILING_WAGE_SUBMITTED_UNIT', 'PAID_WAGE_SUBMITTED',\n",
      "       'PAID_WAGE_SUBMITTED_UNIT', 'JOB_TITLE', 'WORK_CITY',\n",
      "       'EDUCATION_LEVEL_REQUIRED', 'COLLEGE_MAJOR_REQUIRED',\n",
      "       'EXPERIENCE_REQUIRED_Y_N', 'EXPERIENCE_REQUIRED_NUM_MONTHS',\n",
      "       'COUNTRY_OF_CITIZENSHIP', 'PREVAILING_WAGE_SOC_CODE',\n",
      "       'PREVAILING_WAGE_SOC_TITLE', 'WORK_STATE', 'WORK_STATE_ABBREVIATION',\n",
      "       'WORK_POSTAL_CODE', 'FULL_TIME_POSITION_Y_N', 'VISA_CLASS',\n",
      "       'PREVAILING_WAGE_PER_YEAR', 'PAID_WAGE_PER_YEAR', 'JOB_TITLE_SUBGROUP',\n",
      "       'order'],\n",
      "      dtype='object')\n"
     ]
    }
   ],
   "source": [
    "print(df.columns)"
   ]
  }
 ],
 "metadata": {
  "kernelspec": {
   "display_name": "Pandas",
   "language": "python",
   "name": "python3"
  },
  "language_info": {
   "codemirror_mode": {
    "name": "ipython",
    "version": 3
   },
   "file_extension": ".py",
   "mimetype": "text/x-python",
   "name": "python",
   "nbconvert_exporter": "python",
   "pygments_lexer": "ipython3",
   "version": "3.11.5"
  }
 },
 "nbformat": 4,
 "nbformat_minor": 2
}
